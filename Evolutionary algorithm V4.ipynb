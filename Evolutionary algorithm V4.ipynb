{
 "cells": [
  {
   "cell_type": "code",
   "execution_count": 2,
   "metadata": {},
   "outputs": [],
   "source": [
    "#This version of the evolutionary algorithm seeks to implement\n",
    "#step 7, i.e. the production efficiency curve\n",
    "#and result smoothing, such that stray zeroes and ones are replaced by their neighbours"
   ]
  },
  {
   "cell_type": "code",
   "execution_count": 3,
   "metadata": {},
   "outputs": [],
   "source": [
    "#Production efficiency techs take 150 days base, construction and industry take 200 base\n",
    "\n",
    "#Meta strat:\n",
    "#21 march 1936: Improved worker conditions\n",
    "#2 september 1936: War eco\n",
    "#27 november 1936: Popular figurehead\n",
    "#30 march 1937: Captain of industry, state 12\n",
    "\n",
    "\n",
    "#Normal strat:\n",
    "#17 july 1936: Spanish civil war, war eco\n",
    "\n",
    "\n",
    "#Research:\n",
    "#23 may 1936: Basic machine tools, state 4\n",
    "#8 july 1936: Construction 1, state 5\n",
    "#24 november 1936: Concentrated 1, state 9 \n",
    "#28 feburari 1937: Construction 2, state 12\n",
    "#11 april 1937: Improved machine tools, state 13\n",
    "#25 may 1937: Concentrated 2, state 14\n",
    "\n",
    "#ASSUMPTION FOR NOW: All further tech is unlocked 3 months after they become current TEST IN GAME\n",
    "#Concentrated 3, Machine tools 3, Construction 3, state 33\n",
    "#Concentrated 4, Machine tools 4, Construction 4, state 54"
   ]
  },
  {
   "cell_type": "code",
   "execution_count": 4,
   "metadata": {},
   "outputs": [],
   "source": [
    "#STABILITY EVENTS:\n",
    "#State 2: +5%\n",
    "#State 4: +5%\n",
    "#State 8: +10%"
   ]
  },
  {
   "cell_type": "code",
   "execution_count": 5,
   "metadata": {},
   "outputs": [],
   "source": [
    "import numpy as np"
   ]
  },
  {
   "cell_type": "code",
   "execution_count": 6,
   "metadata": {},
   "outputs": [],
   "source": [
    "def selection(pop, scores, k=3):\n",
    "    selection_ix = np.random.randint(len(pop))\n",
    "    for ix in np.random.randint(0, len(pop), k-1):\n",
    "        if scores[ix] > scores[selection_ix]:\n",
    "            selection_ix = ix\n",
    "    return pop[selection_ix]\n",
    "\n",
    "def crossover(p1, p2, r_cross):\n",
    "    c1, c2 = p1.copy(), p2.copy()\n",
    "    if np.random.rand() < r_cross:\n",
    "        pt = np.random.randint(1, len(p1)-1)\n",
    "        #print(pt)\n",
    "        c1 = p1[:pt] + p2[pt:]\n",
    "        c2 = p2[:pt] + p1[pt:]\n",
    "        #visualise what solutions have been tried\n",
    "    return [c1, c2]\n",
    "\n",
    "def mutation(bitstring, r_mut):\n",
    "    for i in range(len(bitstring)):\n",
    "        if np.random.rand() < r_mut:\n",
    "            bitstring[i] = 1 - bitstring[i]\n",
    "    return bitstring"
   ]
  },
  {
   "cell_type": "code",
   "execution_count": 106,
   "metadata": {},
   "outputs": [],
   "source": [
    "def update_consumergoods(state, toaster_percent):\n",
    "    match state:\n",
    "        case 5:\n",
    "            toaster_percent -= 0.15 #WAR ECO        \n",
    "    return round(toaster_percent, 2)\n",
    "\n",
    "def update_constructionspeed(state, civ_output_modifier):\n",
    "    match state:\n",
    "        case 0:\n",
    "            civ_output_modifier += 0.15\n",
    "        case 5:\n",
    "            civ_output_modifier += 0.1\n",
    "        case 12:\n",
    "            civ_output_modifier += 0.2 #tech + captain of industry\n",
    "        case 33:\n",
    "            civ_output_modifier += 0.1\n",
    "        case 54:\n",
    "            civ_output_modifier += 0.1\n",
    "    return round(civ_output_modifier, 2)\n",
    "\n",
    "def update_miloutput(state, mil_output_modifier):\n",
    "    match state:\n",
    "        case 9:\n",
    "            mil_output_modifier += 0.15\n",
    "        case 14:\n",
    "            mil_output_modifier += 0.15\n",
    "        case 33:\n",
    "            mil_output_modifier += 0.15\n",
    "        case 54:\n",
    "            mil_output_modifier += 0.15\n",
    "    return round(mil_output_modifier, 2)\n",
    "\n",
    "def update_prodefficiency(state, production_efficiency_cap):\n",
    "    match state:\n",
    "        case 4:\n",
    "            production_efficiency_cap += 0.1\n",
    "        case 13:\n",
    "            production_efficiency_cap += 0.1\n",
    "        case 33:\n",
    "            production_efficiency_cap += 0.1\n",
    "        case 54:\n",
    "            production_efficiency_cap += 0.1\n",
    "    return round(production_efficiency_cap, 2)\n",
    "\n",
    "def update_civcost(state, civ_construction_modifier):\n",
    "    match state:\n",
    "        case 5:\n",
    "            civ_construction_modifier += 0.3\n",
    "    return round(civ_construction_modifier, 2)\n",
    "\n",
    "def update_milcost(state, mil_construction_modifier):\n",
    "    match state:\n",
    "        case 5:\n",
    "            mil_construction_modifier += 0.5\n",
    "    return round(mil_construction_modifier, 2)"
   ]
  },
  {
   "cell_type": "code",
   "execution_count": null,
   "metadata": {},
   "outputs": [],
   "source": []
  },
  {
   "cell_type": "code",
   "execution_count": 107,
   "metadata": {},
   "outputs": [],
   "source": [
    "def production(actions):\n",
    "    mils = 32\n",
    "    civs = 45\n",
    "    total = mils + civs\n",
    "    consumergoods_percentage = 0.40\n",
    "    consumergoods = np.floor(total * consumergoods_percentage)\n",
    "    available_civs = np.maximum(int(civs - consumergoods), 0)\n",
    "    \n",
    "    #Civ output modifiers are additive (-30% + 15% = -15%), multiplied by state infrastructure\n",
    "    civ_output = 5 \n",
    "    civ_output_modifier = 1 #Construction speed\n",
    "    civ_construction_modifier = 0.7\n",
    "    mil_construction_modifier = 0.7\n",
    "    mil_output = 4.5\n",
    "    mil_output_modifier = 1\n",
    "    #ic_produced = mil_output * (mil_output_modifier) * production efficiency\n",
    "    prod_eff = 0.5\n",
    "    production_efficiency_cap = 0.55\n",
    "    \n",
    "    #Investigate how new factories add to production efficiency\n",
    "    #production_efficiency works as on the wiki, except for the starting factories\n",
    "    #with different rules\n",
    "    #The number of factories because of trade is quite significant, but ultimately unpredictable\n",
    "    \n",
    "    state = 0\n",
    "    state_size_days = 35 #100 #how many days per state\n",
    "    ic_produced = 0\n",
    "    ic_total = 0    \n",
    "    civ_purchase_pool = 0 \n",
    "    mil_purchase_pool = 0\n",
    "    civ_to_mil_pool = 0\n",
    "    mil_to_civ_pool = 0\n",
    "    infrastructure_modifier = 1.6\n",
    "    \n",
    "    for i in range(len(actions)):\n",
    "        consumergoods_percentage = (update_consumergoods(i, consumergoods_percentage))\n",
    "        civ_output_modifier = (update_constructionspeed(i, civ_output_modifier))\n",
    "        mil_output_modifier = (update_miloutput(i, mil_output_modifier))\n",
    "        civ_construction_modifier = (update_civcost(i, civ_construction_modifier))\n",
    "        mil_construction_modifier = (update_milcost(i, mil_construction_modifier))\n",
    "        production_efficiency_cap = (update_prodefficiency(i, production_efficiency_cap))\n",
    "        \n",
    "        ic_produced = mil_output * mils * state_size_days * mil_output_modifier * prod_eff\n",
    "        \n",
    "        if actions[i] == 0: #build mils     \n",
    "            mil_purchase_pool += (available_civs * civ_output * state_size_days\n",
    "                                 * infrastructure_modifier * civ_output_modifier\n",
    "                                 * mil_construction_modifier)\n",
    "            \n",
    "            existing_mils = mils #Used exclusively for production efficiency calculations\n",
    "            mils += np.floor_divide(mil_purchase_pool, 7200) \n",
    "            total += np.floor_divide(mil_purchase_pool, 7200) \n",
    "            consumergoods = np.ceil(total * consumergoods_percentage)\n",
    "            mil_purchase_pool = np.mod(mil_purchase_pool, 7200)\n",
    "            available_civs = np.maximum(int(civs - consumergoods), 0)\n",
    "            \n",
    "            prod_eff = (existing_mils * prod_eff + (mils - existing_mils) * 0.1) / mils\n",
    "            growth = 0.001 * (production_efficiency_cap **2 / prod_eff)\n",
    "            prod_eff += (growth * 35) / 2\n",
    "            prod_eff = min(1, prod_eff)\n",
    "            \n",
    "            state += 1\n",
    "            ic_total += ic_produced\n",
    "        if actions[i] == 1: #build civs         \n",
    "            civ_purchase_pool += (available_civs * civ_output * state_size_days\n",
    "                                 * infrastructure_modifier * civ_output_modifier\n",
    "                                 * civ_construction_modifier)\n",
    "            civs += np.floor_divide(civ_purchase_pool, 7200) \n",
    "            total += np.floor_divide(civ_purchase_pool, 7200) \n",
    "            consumergoods = np.ceil(total * consumergoods_percentage)\n",
    "            civ_purchase_pool = np.mod(civ_purchase_pool, 7200)\n",
    "            available_civs = np.maximum(int(civs - consumergoods), 0)\n",
    "            \n",
    "            growth = 0.001 * (production_efficiency_cap **2 / prod_eff)\n",
    "            prod_eff += (growth * 35) / 2\n",
    "            prod_eff = min(1, prod_eff)\n",
    "            \n",
    "            state += 1\n",
    "            ic_total += ic_produced\n",
    "        #print(available_civs)\n",
    "        #print(civs, mils, consumergoods)\n",
    "\n",
    "        if actions[i] == 2: #Convert civs to mils\n",
    "            ic_total += ic_produced\n",
    "        \n",
    "        if actions[i] == 3: #Convert mils to civs\n",
    "            ic_total += ic_produced\n",
    "        \n",
    "    return (ic_total, mils, civs)"
   ]
  },
  {
   "cell_type": "code",
   "execution_count": 108,
   "metadata": {},
   "outputs": [
    {
     "data": {
      "text/plain": [
       "(60751.73169614916, 50.0, 45)"
      ]
     },
     "execution_count": 108,
     "metadata": {},
     "output_type": "execute_result"
    }
   ],
   "source": [
    "production([0,0,0,0,0,0,0,0,0,0,0,0,0,0,0,0,0])"
   ]
  },
  {
   "cell_type": "code",
   "execution_count": 109,
   "metadata": {},
   "outputs": [
    {
     "data": {
      "text/plain": [
       "((530856.7617686796, 93.0, 45),\n",
       " (516455.10286099, 114.0, 64.0),\n",
       " (316115.34711203014, 32, 324.0))"
      ]
     },
     "execution_count": 109,
     "metadata": {},
     "output_type": "execute_result"
    }
   ],
   "source": [
    "test = [0] * 57\n",
    "test2 = [1] * 16 + [0] * 41\n",
    "test3 = [1] * 57\n",
    "\n",
    "production(test), production(test2), production(test3)"
   ]
  },
  {
   "cell_type": "code",
   "execution_count": 110,
   "metadata": {},
   "outputs": [],
   "source": [
    "def genetic_algorithm(n_bits, n_pop, n_iter, r_cross):\n",
    "    pop = [np.random.randint(0, 2, n_bits).tolist() for _ in range(n_pop)]\n",
    "    best, best_eval = 0, production(pop[0])\n",
    "    \n",
    "    for gen in range(n_iter):\n",
    "        scores = [production(c) for c in pop]\n",
    "        #print(pop, scores)\n",
    "        for i in range(n_pop):\n",
    "            if scores[i] > best_eval:\n",
    "                best, best_eval = pop[i], scores[i]\n",
    "                print(\"Generation \" + str(gen) + \": new best solution found!\")\n",
    "                print(best, best_eval)\n",
    "                \n",
    "        #ADD ELITISM PLUS ADDITIONAL COMPLETELY RANDOM SAMPLES HERE\n",
    "        \n",
    "        selected = [selection(pop, scores) for _ in range(n_pop)]\n",
    "        children = []\n",
    "        for i in range(0, n_pop, 2):\n",
    "            p1, p2 = selected[i], selected[i+1]\n",
    "            c = crossover(p1, p2, r_cross)\n",
    "            for child in c:\n",
    "                mutated = mutation(child, 1 / n_bits)\n",
    "                children.append(mutated)\n",
    "        #print(np.mean(sum([production(c) for c in pop])))\n",
    "        #print(np.mean(sum([production(c) for c in children])))\n",
    "        #print(sum([sum(strat) for strat in pop]))\n",
    "        pop = children\n",
    "        \n",
    "    #SMOOTHING TEST\n",
    "    best_smoothed = [best[0]]\n",
    "    for i in range(1, len(best)-1):\n",
    "        #print((best[i-1],best[i],best[i+1]))\n",
    "        if best[i-1] == best[i+1]:\n",
    "            best_smoothed.append(best[i-1])\n",
    "        else:\n",
    "            best_smoothed.append(best[i])\n",
    "    best_smoothed.append(best[-1])\n",
    "    best_smoothed_eval = production(best_smoothed)\n",
    "    if best_smoothed_eval > best_eval:\n",
    "        print(\"Smoothing : new best solution found!\")\n",
    "        print(best_smoothed, best_smoothed_eval)\n",
    "        return [best_smoothed, best_smoothed_eval]\n",
    "    \n",
    "    return [best, best_eval]"
   ]
  },
  {
   "cell_type": "code",
   "execution_count": 111,
   "metadata": {},
   "outputs": [
    {
     "name": "stdout",
     "output_type": "stream",
     "text": [
      "Generation 0: new best solution found!\n",
      "[0, 1, 1, 0, 0, 0, 0, 1, 0, 0] (28581.63461502384, 38.0, 47.0)\n",
      "Generation 0: new best solution found!\n",
      "[0, 1, 0, 0, 1, 0, 0, 1, 0, 0] (28613.927937013956, 38.0, 47.0)\n",
      "Generation 1: new best solution found!\n",
      "[0, 0, 1, 0, 0, 0, 0, 0, 0, 0] (28684.939653292033, 40.0, 45.0)\n",
      "Generation 2: new best solution found!\n",
      "[0, 0, 0, 0, 1, 0, 0, 0, 1, 1] (28697.406091532877, 37.0, 47.0)\n",
      "Generation 3: new best solution found!\n",
      "[0, 0, 0, 0, 1, 0, 0, 0, 0, 1] (28720.100605200147, 38.0, 46.0)\n",
      "Generation 3: new best solution found!\n",
      "[0, 0, 0, 0, 0, 0, 0, 0, 0, 1] (28806.306006584557, 39.0, 46.0)\n",
      "Generation 4: new best solution found!\n",
      "[0, 0, 0, 0, 0, 0, 0, 0, 0, 0] (28806.306006584557, 40.0, 45)\n"
     ]
    },
    {
     "data": {
      "text/plain": [
       "[[0, 0, 0, 0, 0, 0, 0, 0, 0, 0], (28806.306006584557, 40.0, 45)]"
      ]
     },
     "execution_count": 111,
     "metadata": {},
     "output_type": "execute_result"
    }
   ],
   "source": [
    "genetic_algorithm(10,10, 5, 0.9) #There should be 66 states of 30 days, ends up on June 5th '41\n",
    "#Note: states could also be 35 days to reflect the length of the focus tree\n",
    "#This would be 57 states of 35 days, ending onJune 19th '41 (no leap years)"
   ]
  },
  {
   "cell_type": "code",
   "execution_count": 112,
   "metadata": {},
   "outputs": [
    {
     "name": "stdout",
     "output_type": "stream",
     "text": [
      "Generation 0: new best solution found!\n",
      "[1, 0, 1, 0, 0, 0, 1, 1, 0, 1, 1, 0, 1, 1, 1, 0, 0, 0, 1, 1, 0, 0, 0, 1, 1, 1, 0, 0, 1, 0, 0, 1, 1, 0, 1, 0, 0, 1, 1, 0, 1, 1, 0, 0, 0, 0, 1, 0, 0, 1, 1, 1, 0, 0, 1, 1, 1] (480689.6098421975, 96.0, 102.0)\n",
      "Generation 0: new best solution found!\n",
      "[0, 1, 1, 0, 0, 1, 1, 0, 0, 1, 0, 1, 1, 0, 0, 1, 0, 1, 0, 0, 1, 1, 0, 1, 1, 0, 0, 1, 0, 0, 1, 0, 1, 1, 0, 0, 1, 0, 0, 0, 0, 1, 0, 0, 1, 1, 0, 1, 1, 0, 1, 0, 0, 0, 1, 1, 0] (487042.71405027097, 99.0, 90.0)\n",
      "Generation 0: new best solution found!\n",
      "[1, 1, 1, 0, 1, 0, 1, 0, 0, 0, 0, 1, 1, 0, 1, 1, 0, 0, 1, 0, 0, 1, 1, 0, 1, 1, 0, 0, 0, 1, 0, 1, 0, 0, 0, 0, 1, 1, 1, 1, 1, 0, 1, 0, 0, 1, 0, 0, 0, 1, 0, 0, 0, 1, 1, 0, 0] (487585.7216227782, 101.0, 88.0)\n",
      "Generation 0: new best solution found!\n",
      "[0, 1, 1, 0, 1, 0, 0, 1, 0, 1, 0, 0, 1, 0, 0, 1, 0, 0, 0, 0, 0, 0, 0, 0, 0, 0, 1, 1, 0, 0, 1, 1, 0, 0, 0, 1, 1, 1, 0, 1, 0, 1, 0, 0, 1, 1, 0, 0, 0, 0, 1, 0, 0, 0, 0, 1, 0] (502474.0565117224, 97.0, 72.0)\n",
      "Generation 0: new best solution found!\n",
      "[0, 1, 1, 1, 0, 1, 0, 0, 0, 0, 0, 1, 1, 1, 0, 0, 1, 1, 0, 1, 1, 0, 0, 0, 0, 0, 0, 0, 0, 0, 0, 0, 0, 0, 0, 0, 1, 0, 1, 0, 0, 0, 1, 1, 0, 1, 0, 1, 1, 1, 0, 1, 0, 1, 1, 0, 0] (505765.0839031356, 95.0, 75.0)\n",
      "Generation 1: new best solution found!\n",
      "[0, 1, 1, 1, 1, 0, 1, 0, 1, 1, 0, 0, 1, 0, 0, 0, 1, 1, 0, 1, 1, 0, 0, 0, 0, 0, 0, 0, 0, 0, 0, 0, 0, 0, 0, 0, 1, 0, 1, 0, 0, 0, 1, 1, 0, 1, 0, 1, 1, 1, 0, 1, 0, 1, 1, 0, 0] (506321.92826960183, 96.0, 77.0)\n",
      "Generation 1: new best solution found!\n",
      "[0, 1, 0, 0, 1, 0, 1, 0, 1, 0, 0, 0, 1, 0, 0, 0, 0, 0, 0, 0, 1, 1, 0, 0, 0, 1, 1, 0, 0, 0, 1, 0, 1, 0, 0, 0, 0, 0, 1, 0, 0, 0, 0, 1, 0, 1, 0, 1, 0, 1, 0, 1, 0, 1, 1, 1, 0] (507020.10401453427, 93.0, 72.0)\n",
      "Generation 2: new best solution found!\n",
      "[1, 1, 1, 0, 0, 1, 1, 0, 0, 1, 0, 1, 1, 0, 0, 0, 1, 1, 0, 1, 1, 0, 0, 0, 0, 0, 0, 0, 0, 0, 0, 0, 0, 0, 0, 0, 1, 0, 1, 0, 0, 0, 0, 1, 0, 1, 0, 1, 1, 0, 0, 1, 0, 1, 1, 1, 0] (507838.18170363584, 97.0, 75.0)\n",
      "Generation 2: new best solution found!\n",
      "[1, 1, 1, 0, 0, 1, 0, 0, 0, 0, 0, 1, 0, 0, 0, 0, 0, 0, 0, 1, 0, 0, 0, 0, 0, 0, 0, 1, 0, 0, 0, 0, 0, 0, 0, 1, 1, 1, 1, 0, 1, 0, 1, 1, 1, 1, 1, 0, 0, 1, 0, 1, 1, 1, 1, 1, 1] (510193.05032579735, 82.0, 78.0)\n",
      "Generation 2: new best solution found!\n",
      "[0, 1, 1, 1, 1, 0, 1, 0, 1, 1, 0, 0, 1, 0, 0, 0, 1, 1, 0, 1, 0, 0, 0, 0, 0, 0, 0, 0, 0, 0, 0, 0, 0, 0, 0, 0, 1, 0, 1, 0, 0, 0, 1, 1, 0, 1, 0, 1, 1, 1, 0, 1, 0, 1, 1, 0, 0] (510456.1401169353, 96.0, 74.0)\n",
      "Generation 2: new best solution found!\n",
      "[0, 1, 1, 0, 1, 1, 0, 0, 0, 1, 0, 1, 0, 0, 0, 0, 0, 0, 0, 1, 0, 0, 0, 0, 1, 0, 0, 0, 0, 0, 0, 0, 0, 0, 0, 0, 1, 0, 1, 0, 0, 0, 1, 1, 0, 1, 0, 1, 1, 1, 0, 1, 0, 1, 1, 0, 0] (513795.10474193824, 91.0, 67.0)\n",
      "Generation 3: new best solution found!\n",
      "[1, 1, 1, 0, 0, 1, 0, 0, 0, 0, 0, 1, 0, 0, 0, 0, 0, 0, 0, 1, 0, 0, 0, 0, 0, 0, 0, 0, 0, 0, 0, 0, 0, 0, 1, 1, 1, 1, 1, 0, 0, 1, 0, 0, 1, 0, 0, 1, 0, 1, 0, 1, 1, 1, 0, 1, 1] (515326.24585394387, 87.0, 68.0)\n",
      "Generation 3: new best solution found!\n",
      "[1, 1, 1, 0, 0, 1, 0, 0, 0, 0, 0, 1, 0, 0, 0, 0, 0, 0, 0, 1, 0, 0, 0, 0, 0, 1, 1, 0, 0, 0, 1, 0, 1, 0, 0, 0, 0, 0, 0, 0, 0, 0, 0, 0, 0, 1, 0, 1, 0, 1, 0, 1, 1, 1, 1, 0, 0] (516582.6727103643, 92.0, 63.0)\n",
      "Generation 5: new best solution found!\n",
      "[1, 1, 1, 0, 0, 1, 0, 0, 0, 0, 0, 1, 0, 0, 0, 0, 0, 0, 0, 1, 0, 0, 0, 0, 1, 0, 0, 0, 0, 0, 0, 0, 0, 0, 0, 0, 1, 0, 1, 0, 1, 0, 0, 1, 0, 1, 0, 1, 1, 0, 0, 1, 0, 0, 1, 0, 0] (516976.4077020273, 93.0, 62.0)\n",
      "Generation 5: new best solution found!\n",
      "[1, 1, 1, 0, 0, 1, 0, 0, 0, 0, 0, 1, 0, 0, 0, 0, 0, 0, 0, 0, 0, 0, 0, 0, 0, 0, 0, 0, 0, 0, 0, 0, 0, 0, 1, 1, 1, 1, 1, 0, 0, 1, 0, 0, 1, 0, 0, 1, 0, 1, 0, 1, 1, 1, 0, 1, 1] (518373.63455931604, 87.0, 66.0)\n",
      "Generation 5: new best solution found!\n",
      "[1, 1, 1, 0, 0, 1, 0, 0, 0, 0, 0, 1, 0, 0, 0, 0, 0, 0, 0, 1, 0, 0, 0, 0, 1, 0, 0, 0, 0, 0, 0, 0, 0, 0, 0, 0, 1, 0, 0, 0, 0, 0, 1, 1, 1, 0, 0, 0, 1, 1, 0, 1, 1, 1, 1, 0, 0] (518438.43224434176, 90.0, 63.0)\n",
      "Generation 5: new best solution found!\n",
      "[1, 1, 1, 0, 0, 1, 0, 0, 0, 0, 0, 1, 0, 0, 0, 0, 0, 0, 0, 1, 0, 0, 0, 0, 0, 0, 0, 0, 0, 0, 0, 0, 0, 0, 0, 0, 1, 0, 1, 0, 0, 0, 1, 1, 0, 1, 0, 1, 1, 0, 0, 1, 0, 1, 1, 0, 0] (519966.3419023935, 91.0, 61.0)\n",
      "Generation 6: new best solution found!\n",
      "[1, 1, 1, 0, 0, 1, 0, 0, 0, 0, 0, 1, 0, 0, 0, 0, 0, 0, 0, 1, 1, 0, 0, 0, 1, 0, 0, 0, 0, 0, 0, 0, 0, 0, 0, 0, 0, 0, 0, 0, 0, 1, 0, 1, 0, 0, 0, 0, 1, 0, 1, 0, 0, 1, 1, 1, 0] (520503.80304168566, 93.0, 60.0)\n",
      "Generation 6: new best solution found!\n",
      "[1, 1, 1, 0, 0, 1, 0, 0, 0, 0, 0, 1, 0, 0, 0, 0, 0, 0, 0, 1, 0, 0, 0, 0, 0, 0, 0, 0, 0, 0, 1, 0, 0, 0, 0, 0, 0, 0, 0, 0, 0, 1, 0, 0, 0, 1, 0, 1, 0, 1, 0, 1, 1, 1, 1, 0, 0] (522068.71713968663, 91.0, 59.0)\n",
      "Generation 7: new best solution found!\n",
      "[1, 1, 1, 0, 0, 0, 0, 0, 0, 0, 0, 1, 0, 0, 0, 0, 0, 0, 0, 1, 0, 0, 0, 0, 0, 0, 0, 0, 0, 0, 0, 0, 0, 0, 0, 0, 0, 0, 0, 0, 0, 1, 0, 0, 0, 1, 1, 0, 1, 1, 1, 0, 0, 1, 1, 0, 1] (522153.77140371065, 89.0, 58.0)\n",
      "Generation 7: new best solution found!\n",
      "[1, 1, 1, 0, 0, 1, 0, 0, 0, 0, 0, 1, 0, 0, 0, 0, 0, 0, 0, 1, 0, 0, 0, 0, 0, 0, 0, 0, 0, 0, 1, 0, 0, 0, 0, 0, 0, 0, 0, 0, 0, 1, 0, 0, 0, 0, 0, 1, 1, 1, 0, 1, 0, 1, 1, 0, 0] (522390.03947080474, 92.0, 58.0)\n",
      "Generation 8: new best solution found!\n",
      "[1, 0, 1, 0, 0, 0, 0, 0, 0, 0, 0, 1, 0, 0, 0, 0, 0, 0, 0, 1, 0, 0, 0, 0, 0, 0, 0, 0, 0, 0, 0, 0, 0, 0, 0, 0, 0, 0, 0, 0, 0, 1, 0, 0, 0, 1, 1, 0, 1, 1, 1, 0, 0, 1, 1, 0, 1] (523248.2668449097, 89.0, 57.0)\n",
      "Generation 8: new best solution found!\n",
      "[1, 1, 1, 0, 0, 1, 0, 0, 0, 0, 0, 0, 0, 0, 0, 0, 0, 0, 0, 1, 0, 0, 0, 0, 0, 0, 0, 0, 0, 0, 0, 0, 0, 0, 0, 0, 1, 0, 0, 0, 0, 0, 1, 0, 0, 1, 0, 1, 0, 1, 0, 1, 1, 1, 1, 0, 0] (524693.7417940147, 90.0, 57.0)\n",
      "Generation 9: new best solution found!\n",
      "[0, 0, 1, 1, 1, 0, 0, 0, 0, 0, 0, 1, 0, 0, 0, 0, 0, 0, 0, 0, 0, 0, 0, 0, 0, 0, 0, 0, 0, 0, 0, 0, 0, 0, 0, 0, 0, 0, 0, 0, 0, 1, 0, 0, 0, 1, 1, 0, 1, 1, 1, 0, 0, 1, 1, 0, 1] (525350.6803643776, 88.0, 56.0)\n",
      "Generation 10: new best solution found!\n",
      "[0, 1, 1, 0, 1, 1, 0, 0, 0, 0, 0, 1, 0, 0, 0, 0, 0, 0, 0, 0, 0, 0, 0, 0, 0, 0, 0, 0, 0, 0, 0, 0, 0, 0, 0, 0, 0, 0, 0, 0, 0, 1, 0, 0, 0, 1, 1, 0, 1, 1, 1, 0, 0, 1, 1, 0, 1] (525568.4781733871, 89.0, 57.0)\n",
      "Generation 10: new best solution found!\n",
      "[1, 1, 1, 0, 0, 1, 0, 0, 0, 0, 0, 1, 0, 0, 0, 0, 0, 0, 0, 0, 0, 0, 0, 0, 0, 0, 0, 0, 0, 0, 0, 0, 0, 0, 0, 0, 0, 0, 0, 0, 0, 1, 0, 0, 0, 1, 1, 0, 1, 1, 1, 0, 0, 1, 1, 0, 1] (526468.1017795766, 90.0, 57.0)\n",
      "Generation 11: new best solution found!\n",
      "[1, 1, 1, 0, 0, 1, 0, 0, 0, 0, 0, 1, 0, 0, 0, 0, 0, 0, 0, 0, 0, 0, 0, 0, 0, 0, 0, 0, 0, 0, 0, 0, 0, 0, 0, 0, 0, 0, 0, 0, 0, 1, 0, 1, 0, 0, 0, 0, 1, 0, 0, 1, 1, 1, 1, 0, 0] (527371.4246772018, 92.0, 54.0)\n",
      "Generation 14: new best solution found!\n",
      "[1, 1, 0, 0, 1, 0, 0, 0, 0, 0, 0, 0, 0, 0, 0, 0, 0, 0, 0, 0, 0, 0, 0, 0, 0, 0, 0, 0, 0, 0, 0, 0, 0, 0, 0, 0, 0, 0, 0, 0, 0, 0, 0, 0, 0, 1, 1, 1, 0, 1, 0, 1, 0, 0, 1, 0, 0] (527685.8938456569, 90.0, 51.0)\n",
      "Generation 14: new best solution found!\n",
      "[1, 1, 1, 0, 0, 1, 0, 0, 0, 0, 0, 1, 0, 0, 0, 0, 0, 0, 0, 0, 0, 0, 0, 0, 0, 0, 0, 0, 0, 0, 0, 0, 0, 0, 0, 0, 0, 0, 0, 0, 0, 1, 0, 0, 0, 0, 0, 1, 0, 1, 0, 1, 1, 0, 1, 0, 0] (527736.0131231993, 92.0, 53.0)\n",
      "Generation 15: new best solution found!\n",
      "[1, 1, 1, 0, 0, 1, 0, 0, 0, 0, 0, 1, 0, 0, 0, 0, 0, 0, 0, 0, 0, 0, 0, 0, 0, 0, 0, 0, 0, 0, 0, 0, 0, 0, 0, 0, 0, 0, 0, 0, 0, 0, 0, 1, 0, 0, 0, 0, 1, 0, 0, 1, 1, 1, 1, 0, 0] (528036.9282546958, 92.0, 53.0)\n",
      "Generation 15: new best solution found!\n",
      "[1, 0, 1, 0, 0, 0, 0, 0, 0, 0, 0, 1, 0, 0, 0, 0, 0, 0, 0, 0, 0, 0, 0, 0, 0, 0, 0, 0, 0, 0, 0, 0, 0, 0, 0, 0, 0, 0, 0, 0, 0, 0, 0, 0, 0, 0, 0, 0, 1, 0, 0, 1, 1, 1, 1, 0, 0] (528545.3531085036, 91.0, 51.0)\n",
      "Generation 16: new best solution found!\n",
      "[1, 0, 1, 0, 0, 0, 0, 0, 0, 0, 0, 1, 0, 0, 0, 0, 0, 0, 0, 0, 0, 0, 0, 0, 0, 0, 0, 0, 0, 0, 0, 0, 0, 0, 0, 0, 0, 0, 0, 0, 0, 0, 0, 0, 0, 0, 0, 0, 1, 0, 0, 1, 1, 1, 0, 1, 0] (528587.7741495888, 91.0, 51.0)\n",
      "Generation 16: new best solution found!\n",
      "[1, 1, 1, 0, 0, 1, 0, 0, 0, 0, 0, 1, 0, 0, 0, 0, 0, 0, 0, 0, 0, 0, 0, 0, 0, 0, 0, 0, 0, 0, 0, 0, 0, 0, 0, 0, 0, 0, 0, 0, 0, 0, 0, 0, 0, 0, 0, 0, 1, 0, 0, 1, 0, 1, 1, 0, 1] (529093.4559889978, 92.0, 52.0)\n",
      "Generation 18: new best solution found!\n",
      "[1, 1, 1, 0, 0, 1, 0, 0, 0, 0, 0, 1, 0, 0, 0, 0, 0, 0, 0, 0, 0, 0, 0, 0, 0, 0, 0, 0, 0, 0, 0, 0, 0, 0, 0, 0, 0, 0, 0, 0, 0, 0, 0, 0, 0, 0, 0, 0, 0, 0, 0, 0, 1, 1, 0, 1, 0] (529633.5238275394, 94.0, 50.0)\n",
      "Generation 19: new best solution found!\n",
      "[1, 1, 1, 0, 0, 1, 0, 0, 0, 0, 0, 0, 0, 0, 0, 0, 0, 0, 0, 0, 0, 0, 0, 0, 0, 0, 0, 0, 0, 0, 0, 0, 0, 0, 0, 0, 0, 0, 0, 0, 0, 0, 0, 0, 0, 0, 0, 1, 0, 0, 1, 0, 0, 0, 1, 1, 0] (530757.1170327355, 92.0, 50.0)\n"
     ]
    },
    {
     "name": "stdout",
     "output_type": "stream",
     "text": [
      "Generation 21: new best solution found!\n",
      "[1, 1, 1, 0, 0, 1, 0, 0, 0, 0, 0, 0, 0, 0, 0, 0, 0, 0, 0, 0, 0, 0, 0, 0, 0, 0, 0, 0, 0, 0, 0, 0, 0, 0, 0, 0, 0, 0, 0, 0, 0, 0, 0, 0, 0, 0, 0, 0, 0, 0, 0, 0, 1, 1, 1, 0, 0] (531308.8304397255, 93.0, 49.0)\n",
      "Generation 21: new best solution found!\n",
      "[1, 1, 1, 0, 0, 1, 0, 0, 0, 0, 0, 0, 0, 0, 0, 0, 0, 0, 0, 0, 0, 0, 0, 0, 0, 0, 0, 0, 0, 0, 0, 0, 0, 0, 0, 0, 0, 0, 0, 0, 0, 0, 0, 0, 0, 0, 0, 0, 0, 0, 0, 0, 1, 1, 0, 0, 0] (531385.3507455962, 94.0, 48.0)\n",
      "Generation 24: new best solution found!\n",
      "[1, 1, 1, 0, 0, 1, 0, 0, 0, 0, 0, 0, 0, 0, 0, 0, 0, 0, 0, 0, 0, 0, 0, 0, 0, 0, 0, 0, 0, 0, 0, 0, 0, 0, 0, 0, 0, 0, 0, 0, 0, 0, 0, 0, 0, 0, 0, 0, 0, 0, 0, 0, 1, 0, 1, 0, 0] (531431.5785435905, 94.0, 48.0)\n",
      "Generation 24: new best solution found!\n",
      "[1, 1, 1, 0, 0, 1, 0, 0, 0, 0, 0, 0, 0, 0, 0, 0, 0, 0, 0, 0, 0, 0, 0, 0, 0, 0, 0, 0, 0, 0, 0, 0, 0, 0, 0, 0, 0, 0, 0, 0, 0, 0, 0, 0, 0, 0, 0, 0, 0, 0, 0, 0, 0, 0, 1, 0, 0] (531605.1566154769, 95.0, 47.0)\n",
      "Generation 29: new best solution found!\n",
      "[1, 1, 1, 0, 0, 1, 0, 0, 0, 0, 0, 0, 0, 0, 0, 0, 0, 0, 0, 0, 0, 0, 0, 0, 0, 0, 0, 0, 0, 0, 0, 0, 0, 0, 0, 0, 0, 0, 0, 0, 0, 0, 0, 0, 0, 0, 0, 0, 0, 0, 0, 0, 0, 0, 0, 0, 0] (531682.1055111538, 95.0, 47.0)\n"
     ]
    },
    {
     "data": {
      "text/plain": [
       "[[1,\n",
       "  1,\n",
       "  1,\n",
       "  0,\n",
       "  0,\n",
       "  1,\n",
       "  0,\n",
       "  0,\n",
       "  0,\n",
       "  0,\n",
       "  0,\n",
       "  0,\n",
       "  0,\n",
       "  0,\n",
       "  0,\n",
       "  0,\n",
       "  0,\n",
       "  0,\n",
       "  0,\n",
       "  0,\n",
       "  0,\n",
       "  0,\n",
       "  0,\n",
       "  0,\n",
       "  0,\n",
       "  0,\n",
       "  0,\n",
       "  0,\n",
       "  0,\n",
       "  0,\n",
       "  0,\n",
       "  0,\n",
       "  0,\n",
       "  0,\n",
       "  0,\n",
       "  0,\n",
       "  0,\n",
       "  0,\n",
       "  0,\n",
       "  0,\n",
       "  0,\n",
       "  0,\n",
       "  0,\n",
       "  0,\n",
       "  0,\n",
       "  0,\n",
       "  0,\n",
       "  0,\n",
       "  0,\n",
       "  0,\n",
       "  0,\n",
       "  0,\n",
       "  0,\n",
       "  0,\n",
       "  0,\n",
       "  0,\n",
       "  0],\n",
       " (531682.1055111538, 95.0, 47.0)]"
      ]
     },
     "execution_count": 112,
     "metadata": {},
     "output_type": "execute_result"
    }
   ],
   "source": [
    "genetic_algorithm(57,100, 30, 0.9)"
   ]
  },
  {
   "cell_type": "code",
   "execution_count": 113,
   "metadata": {},
   "outputs": [
    {
     "data": {
      "text/plain": [
       "((525060.049651363, 106.0, 56.0), (516455.10286099, 114.0, 64.0))"
      ]
     },
     "execution_count": 113,
     "metadata": {},
     "output_type": "execute_result"
    }
   ],
   "source": [
    "#Building civs for the first 16 states (roughly 1.5 years) seems to be it's optimal solution\n",
    "#Building civs for the first 12 states (roughly 1.25 years) seems to also be an optimal solution\n",
    "#Interestingly, building civs for 13, 14 or 15 performs worse than either, ergo the solution space has local maxima\n",
    "#How do you account for the fact that the second solution has better long-term potential?\n",
    "#How can I scale the factory scores as an added weight?\n",
    "#Check in game if the difference of four states really equals 7 civilian factories\n",
    "\n",
    "max_12 = production([1, 1, 1, 1, 1, 1, 1, 1, 1, 1, 1, 1, 0, 0, 0, 0, 0, 0, 0, 0, 0, 0, 0, 0, 0, 0, 0, 0, 0, 0, 0, 0, 0, 0, 0, 0, 0, 0, 0, 0, 0, 0, 0, 0, 0, 0, 0, 0, 0, 0, 0, 0, 0, 0, 0, 0, 0])\n",
    "max_16 = production([1, 1, 1, 1, 1, 1, 1, 1, 1, 1, 1, 1, 1, 1, 1, 1, 0, 0, 0, 0, 0, 0, 0, 0, 0, 0, 0, 0, 0, 0, 0, 0, 0, 0, 0, 0, 0, 0, 0, 0, 0, 0, 0, 0, 0, 0, 0, 0, 0, 0, 0, 0, 0, 0, 0, 0, 0])\n",
    "max_12, max_16"
   ]
  },
  {
   "cell_type": "code",
   "execution_count": 114,
   "metadata": {},
   "outputs": [
    {
     "data": {
      "text/plain": [
       "(523928.7586402615, 95.0, 57.0)"
      ]
     },
     "execution_count": 114,
     "metadata": {},
     "output_type": "execute_result"
    }
   ],
   "source": [
    "production([1, 1, 1, 1, 1, 1, 1, 1, 0, 0, 0, 0, 0, 0, 0, 0, 0, 0, 0, 0, 0, 0, 0, 0, 0, 0, 0, 0, 0, 0, 0, 0, 0, 0, 1, 0, 0, 0, 0, 0, 1, 0, 0, 0, 0, 1, 0, 0, 1, 0, 0, 1, 0, 0, 0, 0, 1])"
   ]
  },
  {
   "cell_type": "code",
   "execution_count": 29,
   "metadata": {},
   "outputs": [
    {
     "name": "stdout",
     "output_type": "stream",
     "text": [
      "0.4644 0.0007765\n",
      "0.4652 0.0007752\n",
      "0.4659 0.0007739\n",
      "0.4667 0.0007727\n",
      "0.4675 0.0007714\n",
      "0.4682 0.0007701\n",
      "0.469 0.0007688\n",
      "0.4698 0.0007676\n",
      "0.4705 0.0007663\n",
      "0.4713 0.0007651\n",
      "0.4721 0.0007638\n",
      "0.4728 0.0007626\n",
      "0.4736 0.0007614\n",
      "0.4744 0.0007601\n",
      "0.4751 0.0007589\n",
      "0.4759 0.0007577\n",
      "0.4766 0.0007565\n",
      "0.4774 0.0007553\n",
      "0.4781 0.0007541\n",
      "0.4789 0.0007529\n",
      "0.4796 0.0007517\n",
      "0.4804 0.0007506\n",
      "0.4811 0.0007494\n",
      "0.4819 0.0007482\n",
      "0.4826 0.0007471\n",
      "0.4834 0.0007459\n",
      "0.4841 0.0007447\n",
      "0.4849 0.0007436\n",
      "0.4856 0.0007425\n",
      "0.4864 0.0007413\n",
      "0.4871 0.0007402\n",
      "0.4878 0.0007391\n",
      "0.4886 0.000738\n",
      "0.4893 0.0007368\n",
      "0.49 0.0007357\n",
      "0.0264\n"
     ]
    }
   ],
   "source": [
    "base_efficiency = 0.5\n",
    "efficiency_cap = 0.6\n",
    "new_efficiency = 0.1\n",
    "mils = 10\n",
    "new_mils = 1\n",
    "total_mils = mils + new_mils\n",
    "efficiency = round((base_efficiency * mils + new_mils * new_efficiency) / total_mils, 4)\n",
    "efficiency_start = efficiency\n",
    "\n",
    "for i in range(35):\n",
    "    growth = 0.001 * (efficiency_cap **2 / efficiency)\n",
    "    efficiency += growth\n",
    "    print(round(efficiency, 4), round(growth, 7))\n",
    "    \n",
    "print(round(efficiency - efficiency_start, 4))"
   ]
  },
  {
   "cell_type": "code",
   "execution_count": 30,
   "metadata": {},
   "outputs": [
    {
     "name": "stdout",
     "output_type": "stream",
     "text": [
      "0.0522\n"
     ]
    }
   ],
   "source": [
    "growth = 0.001 * (efficiency_cap **2 / efficiency)\n",
    "efficiency += (growth * 35) / 2\n",
    "    \n",
    "print(round(efficiency - efficiency_start, 4))"
   ]
  },
  {
   "cell_type": "code",
   "execution_count": null,
   "metadata": {},
   "outputs": [],
   "source": []
  }
 ],
 "metadata": {
  "kernelspec": {
   "display_name": "Python 3 (ipykernel)",
   "language": "python",
   "name": "python3"
  },
  "language_info": {
   "codemirror_mode": {
    "name": "ipython",
    "version": 3
   },
   "file_extension": ".py",
   "mimetype": "text/x-python",
   "name": "python",
   "nbconvert_exporter": "python",
   "pygments_lexer": "ipython3",
   "version": "3.10.9"
  }
 },
 "nbformat": 4,
 "nbformat_minor": 4
}
