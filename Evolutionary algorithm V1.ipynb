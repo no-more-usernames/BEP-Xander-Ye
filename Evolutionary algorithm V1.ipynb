{
 "cells": [
  {
   "cell_type": "code",
   "execution_count": 1,
   "metadata": {},
   "outputs": [],
   "source": [
    "import numpy as np"
   ]
  },
  {
   "cell_type": "code",
   "execution_count": 9,
   "metadata": {},
   "outputs": [],
   "source": [
    "def production(actions):\n",
    "    mils = 32\n",
    "    docks = 6\n",
    "    civs = 45\n",
    "    total = mils + docks + civs\n",
    "    consumergoods_percentage = 0.3\n",
    "    consumergoods = np.ceil(total * consumergoods_percentage)\n",
    "    available_civs = np.maximum(int(civs - consumergoods), 0)\n",
    "    civ_output = 5 \n",
    "    mil_output = 5\n",
    "    state = 0\n",
    "    state_size = 100 #how many days per state\n",
    "    ic_produced = 0\n",
    "    ic_total = 0    \n",
    "    civ_purchase_pool = 0 \n",
    "    mil_purchase_pool = 0\n",
    "    \n",
    "    for i in range(len(actions)):\n",
    "        if actions[i] == 0: #build mils     \n",
    "            ic_produced = mil_output * mils * 100\n",
    "            mil_purchase_pool += available_civs * civ_output * 100\n",
    "            mils += np.floor_divide(mil_purchase_pool, 7200) \n",
    "            total += np.floor_divide(mil_purchase_pool, 7200) \n",
    "            consumergoods = np.ceil(total * 0.3)\n",
    "            mil_purchase_pool = np.mod(mil_purchase_pool, 7200)\n",
    "            state += 1\n",
    "            ic_total += ic_produced\n",
    "        if actions[i] == 1:\n",
    "            ic_produced = mil_output * mils * 100\n",
    "            civ_purchase_pool += available_civs * civ_output * 100\n",
    "            civs += np.floor_divide(civ_purchase_pool, 7200) \n",
    "            total += np.floor_divide(civ_purchase_pool, 7200) \n",
    "            consumergoods = np.ceil(total * 0.3)\n",
    "            civ_purchase_pool = np.mod(civ_purchase_pool, 7200)\n",
    "            state += 1\n",
    "            ic_total += ic_produced\n",
    "    \n",
    "    return ic_total"
   ]
  },
  {
   "cell_type": "code",
   "execution_count": 10,
   "metadata": {},
   "outputs": [
    {
     "data": {
      "text/plain": [
       "67500"
      ]
     },
     "execution_count": 10,
     "metadata": {},
     "output_type": "execute_result"
    }
   ],
   "source": [
    "production([0,0,0,0])"
   ]
  },
  {
   "cell_type": "code",
   "execution_count": 239,
   "metadata": {},
   "outputs": [],
   "source": [
    "def selection(pop, scores, k=3):\n",
    " # first random selection\n",
    "    selection_ix = np.random.randint(len(pop))\n",
    "    for ix in np.random.randint(0, len(pop), k-1):\n",
    "        if scores[ix] > scores[selection_ix]:\n",
    "            selection_ix = ix\n",
    "    return pop[selection_ix]\n",
    "\n",
    "def crossover(p1, p2, r_cross):\n",
    "    c1, c2 = p1.copy(), p2.copy()\n",
    "    if np.random.rand() < r_cross:\n",
    "        pt = np.random.randint(1, len(p1)-1)\n",
    "        #print(pt)\n",
    "        c1 = p1[:pt] + p2[pt:]\n",
    "        c2 = p2[:pt] + p1[pt:]\n",
    "    return [c1, c2]\n",
    "\n",
    "def mutation(bitstring, r_mut):\n",
    "    for i in range(len(bitstring)):\n",
    "        if np.random.rand() < r_mut:\n",
    "            bitstring[i] = 1 - bitstring[i]\n",
    "    return bitstring\n",
    "\n",
    "def genetic_algorithm(n_bits, n_pop, n_iter, r_cross):\n",
    "    pop = [np.random.randint(0, 2, n_bits).tolist() for _ in range(n_pop)]\n",
    "    best, best_eval = 0, production(pop[0])\n",
    "    \n",
    "    for gen in range(n_iter):\n",
    "        scores = [production(c) for c in pop]\n",
    "        #print(pop, scores)\n",
    "        for i in range(n_pop):\n",
    "            if scores[i] > best_eval:\n",
    "                best, best_eval = pop[i], scores[i]\n",
    "                print(\"Generation \" + str(gen) + \": new best solution found!\")\n",
    "        \n",
    "        selected = [selection(pop, scores) for _ in range(n_pop)]\n",
    "        children = []\n",
    "        for i in range(0, n_pop, 2):\n",
    "            p1, p2 = selected[i], selected[i+1]\n",
    "            c = crossover(p1, p2, r_cross)\n",
    "            for child in c:\n",
    "                mutated = mutation(child, 1 / n_bits)\n",
    "                children.append(mutated)\n",
    "        #print(np.mean(sum([production(c) for c in pop])))\n",
    "        #print(np.mean(sum([production(c) for c in children])))\n",
    "        print(sum([sum(strat) for strat in pop])) #lower is better in this simple case\n",
    "        pop = children\n",
    "        \n",
    "        \n",
    "    return [best, best_eval]\n",
    "    #return sum([sum(strat) for strat in pop]), sum([sum(strat) for strat in children])"
   ]
  },
  {
   "cell_type": "code",
   "execution_count": 240,
   "metadata": {},
   "outputs": [
    {
     "name": "stdout",
     "output_type": "stream",
     "text": [
      "Generation 0: new best solution found!\n",
      "Generation 0: new best solution found!\n",
      "49\n",
      "44\n",
      "37\n",
      "42\n",
      "Generation 4: new best solution found!\n",
      "40\n"
     ]
    },
    {
     "data": {
      "text/plain": [
       "[[0, 0, 0, 0, 0, 0, 0, 0, 0, 0], 189000]"
      ]
     },
     "execution_count": 240,
     "metadata": {},
     "output_type": "execute_result"
    }
   ],
   "source": [
    "genetic_algorithm(10,10, 5, 0.9)"
   ]
  },
  {
   "cell_type": "code",
   "execution_count": 17,
   "metadata": {},
   "outputs": [
    {
     "name": "stdout",
     "output_type": "stream",
     "text": [
      "2\n"
     ]
    },
    {
     "data": {
      "text/plain": [
       "[[0, 0, 1, 1, 1], [1, 1, 0, 0, 0]]"
      ]
     },
     "execution_count": 17,
     "metadata": {},
     "output_type": "execute_result"
    }
   ],
   "source": [
    "crossover([0, 0, 0, 0, 0], [1, 1, 1, 1, 1], 0.9)"
   ]
  },
  {
   "cell_type": "code",
   "execution_count": 18,
   "metadata": {},
   "outputs": [],
   "source": [
    "pop = [np.random.randint(0, 2, 4).tolist() for _ in range(10)]\n",
    "scores = [production(c) for c in pop]"
   ]
  },
  {
   "cell_type": "code",
   "execution_count": 32,
   "metadata": {},
   "outputs": [
    {
     "data": {
      "text/plain": [
       "[0, 0, 0, 0, 0]"
      ]
     },
     "execution_count": 32,
     "metadata": {},
     "output_type": "execute_result"
    }
   ],
   "source": [
    "mutation([0, 0, 0, 0, 0], 1/6)"
   ]
  },
  {
   "cell_type": "code",
   "execution_count": 242,
   "metadata": {},
   "outputs": [
    {
     "data": {
      "text/plain": [
       "189000"
      ]
     },
     "execution_count": 242,
     "metadata": {},
     "output_type": "execute_result"
    }
   ],
   "source": [
    "production([0,0,0,0,0,0,0,0,0,0])"
   ]
  },
  {
   "cell_type": "code",
   "execution_count": 244,
   "metadata": {},
   "outputs": [
    {
     "data": {
      "text/plain": [
       "173000"
      ]
     },
     "execution_count": 244,
     "metadata": {},
     "output_type": "execute_result"
    }
   ],
   "source": [
    "production([1,1,1,0,0,0,0,0,0,0])"
   ]
  },
  {
   "cell_type": "code",
   "execution_count": null,
   "metadata": {},
   "outputs": [],
   "source": []
  }
 ],
 "metadata": {
  "kernelspec": {
   "display_name": "Python 3",
   "language": "python",
   "name": "python3"
  },
  "language_info": {
   "codemirror_mode": {
    "name": "ipython",
    "version": 3
   },
   "file_extension": ".py",
   "mimetype": "text/x-python",
   "name": "python",
   "nbconvert_exporter": "python",
   "pygments_lexer": "ipython3",
   "version": "3.7.6"
  }
 },
 "nbformat": 4,
 "nbformat_minor": 4
}
